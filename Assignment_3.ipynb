{
 "cells": [
  {
   "cell_type": "markdown",
   "metadata": {},
   "source": [
    "### Question 1.1 \n",
    "### Write a Python Program to implement your own myreduce() function which works exactly like Python's built-in function reduce() ###"
   ]
  },
  {
   "cell_type": "code",
   "execution_count": 410,
   "metadata": {},
   "outputs": [],
   "source": [
    "def myreduce(func, data):            # Our myreduce() function takes a function func and data as arguments \n",
    "    result = data[0]                 # Assign first value of data as result \n",
    "    for val in data[1:]:             # Iterating for remaining values(from 1st index till end of data)\n",
    "        result = func(result, val)   # Applying the desired function(passed as the argument) repeatedly for remaining values, depicitng the actual reduce() function\n",
    "    return result"
   ]
  },
  {
   "cell_type": "code",
   "execution_count": 411,
   "metadata": {},
   "outputs": [
    {
     "data": {
      "text/plain": [
       "6.0"
      ]
     },
     "execution_count": 411,
     "metadata": {},
     "output_type": "execute_result"
    }
   ],
   "source": [
    "myreduce(lambda a,b:b/a,[2,4,16,48])   #Implementing the myreduce() function we just created"
   ]
  },
  {
   "cell_type": "markdown",
   "metadata": {},
   "source": [
    "\n",
    "### Question 1.2 \n",
    "### Write a Python program to implement your own myfilter() function which works exactly like Python's built-in function filter() "
   ]
  },
  {
   "cell_type": "code",
   "execution_count": 412,
   "metadata": {},
   "outputs": [],
   "source": [
    "\n",
    "def myfilter(func, data):   # Our myfilter() function takes a function func and data as arguments \n",
    "    l = []                  # Creating an empty list\n",
    "    for val in data:        # Iterating over the passed data\n",
    "        if func(val)==True: # Checking the condition that the function should return True\n",
    "            l.append(val)   # Storing the values that satisfy the condition into a list \n",
    "    return l                # Returning the list as the output"
   ]
  },
  {
   "cell_type": "code",
   "execution_count": 413,
   "metadata": {},
   "outputs": [],
   "source": [
    "# Creating a function to check odd values, further We'll use this function with the myfilter() function\n",
    "\n",
    "def check_odd(n):\n",
    "    if n%2!=0:  # Checking the condition \n",
    "        return True\n",
    "    else: \n",
    "        return False"
   ]
  },
  {
   "cell_type": "code",
   "execution_count": 414,
   "metadata": {},
   "outputs": [
    {
     "data": {
      "text/plain": [
       "True"
      ]
     },
     "execution_count": 414,
     "metadata": {},
     "output_type": "execute_result"
    }
   ],
   "source": [
    "check_odd(5)  # Checking the function "
   ]
  },
  {
   "cell_type": "code",
   "execution_count": 415,
   "metadata": {},
   "outputs": [
    {
     "data": {
      "text/plain": [
       "[7, 9, 1, 73, 5]"
      ]
     },
     "execution_count": 415,
     "metadata": {},
     "output_type": "execute_result"
    }
   ],
   "source": [
    "myfilter(check_odd,[12,2,7,9,1,54,73,5]) # Implementing the myfilter() function to filter all odd values"
   ]
  },
  {
   "cell_type": "markdown",
   "metadata": {},
   "source": [
    "### Question 2. Implement List comprehensions to produce the following lists. Write List comprehensions to produce the following Lists\n",
    "### ['A', 'C', 'A', 'D', 'G', 'I', ’L’, ‘ D’]\n",
    "### ['x', 'xx', 'xxx', 'xxxx', 'y', 'yy', 'yyy', 'yyyy', 'z', 'zz', 'zzz', 'zzzz']\n",
    "### ['x', 'y', 'z', 'xx', 'yy', 'zz', 'xxx', 'yyy', 'zzz', 'xxxx', 'yyyy', 'zzzz'] \n",
    "### [[2], [3], [4], [3], [4], [5], [4], [5], [6]] \n",
    "### [[2, 3, 4, 5], [3, 4, 5, 6], [4, 5, 6, 7], [5, 6, 7, 8]]\n",
    "### [(1, 1), (2, 1), (3, 1), (1, 2), (2, 2), (3, 2), (1, 3), (2, 3), (3, 3)]"
   ]
  },
  {
   "cell_type": "code",
   "execution_count": 419,
   "metadata": {},
   "outputs": [
    {
     "data": {
      "text/plain": [
       "['A', 'C', 'A', 'D', 'G', 'I', 'L', 'D']"
      ]
     },
     "execution_count": 419,
     "metadata": {},
     "output_type": "execute_result"
    }
   ],
   "source": [
    "## List 1\n",
    "word1='ACADGILD'\n",
    "list1=[w for w in word1]   # Applying list comprehension to get the desired list\n",
    "list1 #Printing the result"
   ]
  },
  {
   "cell_type": "code",
   "execution_count": 420,
   "metadata": {},
   "outputs": [
    {
     "data": {
      "text/plain": [
       "['x', 'xx', 'xxx', 'xxxx', 'y', 'yy', 'yyy', 'yyyy', 'z', 'zz', 'zzz', 'zzzz']"
      ]
     },
     "execution_count": 420,
     "metadata": {},
     "output_type": "execute_result"
    }
   ],
   "source": [
    "## List 2\n",
    "word2='xyz'\n",
    "list2=[i*j for i in word2 for j in range(1,5) ]  # Applying list comprehension to get the desired list\n",
    "list2 #Printing the result"
   ]
  },
  {
   "cell_type": "code",
   "execution_count": 423,
   "metadata": {},
   "outputs": [
    {
     "data": {
      "text/plain": [
       "['x', 'y', 'z', 'xx', 'yy', 'zz', 'xxx', 'yyy', 'zzz', 'xxxx', 'yyyy', 'zzzz']"
      ]
     },
     "execution_count": 423,
     "metadata": {},
     "output_type": "execute_result"
    }
   ],
   "source": [
    "## List 3\n",
    "word3='xyz'\n",
    "list3=[i*j for j in range(1,5) for i in word3 ]  # Applying list comprehension to get the desired list\n",
    "list3 #Printing the result"
   ]
  },
  {
   "cell_type": "code",
   "execution_count": 424,
   "metadata": {},
   "outputs": [
    {
     "data": {
      "text/plain": [
       "[[2], [3], [4], [3], [4], [5], [4], [5], [6]]"
      ]
     },
     "execution_count": 424,
     "metadata": {},
     "output_type": "execute_result"
    }
   ],
   "source": [
    "## List 4\n",
    "data4=[2,3,4]\n",
    "list4=[[i+j] for i in data4 for j in range(0,3)]  # Applying list comprehension to get the desired list\n",
    "list4 #Printing the result"
   ]
  },
  {
   "cell_type": "code",
   "execution_count": 425,
   "metadata": {},
   "outputs": [
    {
     "data": {
      "text/plain": [
       "[[2, 3, 4, 5], [3, 4, 5, 6], [4, 5, 6, 7], [5, 6, 7, 8]]"
      ]
     },
     "execution_count": 425,
     "metadata": {},
     "output_type": "execute_result"
    }
   ],
   "source": [
    "## List 5\n",
    "data5=[2,3,4,5]\n",
    "list5=[[i+j for i in data5] for j in range(0,4)]  # Applying list comprehension to get the desired list\n",
    "list5 #Printing the result"
   ]
  },
  {
   "cell_type": "code",
   "execution_count": 426,
   "metadata": {},
   "outputs": [
    {
     "data": {
      "text/plain": [
       "[(1, 1), (2, 1), (3, 1), (1, 2), (2, 2), (3, 2), (1, 3), (2, 3), (3, 3)]"
      ]
     },
     "execution_count": 426,
     "metadata": {},
     "output_type": "execute_result"
    }
   ],
   "source": [
    "## List 6\n",
    "data6=[1,2,3]\n",
    "list6=[(i,j) for j in data6 for i in data6]  # Applying list comprehension to get the desired list\n",
    "list6 #Printing the result"
   ]
  },
  {
   "cell_type": "code",
   "execution_count": null,
   "metadata": {},
   "outputs": [],
   "source": []
  }
 ],
 "metadata": {
  "kernelspec": {
   "display_name": "Python 3",
   "language": "python",
   "name": "python3"
  },
  "language_info": {
   "codemirror_mode": {
    "name": "ipython",
    "version": 3
   },
   "file_extension": ".py",
   "mimetype": "text/x-python",
   "name": "python",
   "nbconvert_exporter": "python",
   "pygments_lexer": "ipython3",
   "version": "3.7.6"
  }
 },
 "nbformat": 4,
 "nbformat_minor": 4
}
