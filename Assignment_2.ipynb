{
 "cells": [
  {
   "cell_type": "markdown",
   "metadata": {},
   "source": [
    "### Question 1:\n",
    "### Create the below pattern using nested for loop in Python.\n"
   ]
  },
  {
   "cell_type": "code",
   "execution_count": 1,
   "metadata": {
    "scrolled": true
   },
   "outputs": [
    {
     "name": "stdout",
     "output_type": "stream",
     "text": [
      "\r\n",
      "* \r\n",
      "* * \r\n",
      "* * * \r\n",
      "* * * * \r\n",
      "* * * * * \r\n",
      "* * * * \r\n",
      "* * * \r\n",
      "* * \r\n",
      "* \r\n"
     ]
    }
   ],
   "source": [
    "for i in range(0,5):             # Taking range of i from 0 to 5 so that i takes atmost 5 values\n",
    "    for j in range(0,i):         # Taking range of j from 0 to i so that j takes values till i for a particular row\n",
    "        print(\"* \",end=\"\")       # Printing the pattern line\n",
    "    print(\"\\r\")                  # Using '\\r' for carriage return\n",
    "for i in range(5, 0 , -1):       # Now Starting the reverse process, taking range of i from 5 to 0\n",
    "        for j in range(0, i):    # Taking range of j from 0 to i so that j takes values till i for a particular row\n",
    "            print(\"* \", end=\"\")  # Printing the pattern line\n",
    "        print(\"\\r\") "
   ]
  },
  {
   "cell_type": "markdown",
   "metadata": {},
   "source": [
    "### Question 2.\n",
    "### Write a Python program to reverse a word after accepting the input from the user.\n"
   ]
  },
  {
   "cell_type": "code",
   "execution_count": 2,
   "metadata": {},
   "outputs": [
    {
     "name": "stdout",
     "output_type": "stream",
     "text": [
      "Please enter the wordyou want to reverse Apotheosis\n",
      "The reversed word is :  sisoehtopA\n"
     ]
    }
   ],
   "source": [
    "word=input(\"Please enter the wordyou want to reverse \")\n",
    "rev_word=word[-1::-1]\n",
    "print(\"The reversed word is : \",rev_word)"
   ]
  },
  {
   "cell_type": "code",
   "execution_count": null,
   "metadata": {},
   "outputs": [],
   "source": []
  }
 ],
 "metadata": {
  "kernelspec": {
   "display_name": "Python 3",
   "language": "python",
   "name": "python3"
  },
  "language_info": {
   "codemirror_mode": {
    "name": "ipython",
    "version": 3
   },
   "file_extension": ".py",
   "mimetype": "text/x-python",
   "name": "python",
   "nbconvert_exporter": "python",
   "pygments_lexer": "ipython3",
   "version": "3.7.6"
  }
 },
 "nbformat": 4,
 "nbformat_minor": 4
}
