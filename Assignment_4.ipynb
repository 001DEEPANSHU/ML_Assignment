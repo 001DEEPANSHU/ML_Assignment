{
 "cells": [
  {
   "cell_type": "markdown",
   "metadata": {},
   "source": [
    "### 1.1 Write a Python Program(with class concepts) to find the area of the triangle using the below formula.\n",
    "### area = (s*(s-a)*(s-b)*(s-c)) ** 0.5\n",
    "### Function to take the length of the sides of triangle from user should be defined in the parent class and function to calculate the area should be defined in subclass.\n"
   ]
  },
  {
   "cell_type": "code",
   "execution_count": 1,
   "metadata": {},
   "outputs": [],
   "source": [
    "class Dimensions:                 # Creating the parent class to take the lenght of sides of triangle\n",
    "    def __init__(self, a, b, c):\n",
    "        self.side1=a\n",
    "        self.side2=b\n",
    "        self.side3=c\n",
    "        \n",
    "    def __str__(self):            # To return the sides entered by the user\n",
    "        return \"The sides of the triangle (in cm) are %d , %d and  %d.\" \\\n",
    "                % (self.side1, self.side2, self.side3)\n",
    "    \n",
    "    \n",
    "\n",
    "class Area(Dimensions):                     # Creating the child class to calculate the area  of triangle\n",
    "    def __init__(self, a,b,c):\n",
    "        super(Area,self).__init__(a,b,c)    # super() function to connect child class to the parent class\n",
    "        self.s=(a+b+c)/2\n",
    "        self.AREA=(self.s*(self.s-a)*(self.s-b)*(self.s-c)) ** 0.5  #Calculating the area of the triangle   \n",
    "     \n",
    "\n",
    "    def __str__(self):\n",
    "        return super(Area, self).__str__() + \"\\nAnd the area of the triangle is (in cm^2): %f\" % self.AREA  #Overriding the parent method to return the area\n",
    "        "
   ]
  },
  {
   "cell_type": "code",
   "execution_count": 2,
   "metadata": {},
   "outputs": [],
   "source": [
    "ar=Area(5,7,8)"
   ]
  },
  {
   "cell_type": "code",
   "execution_count": 3,
   "metadata": {},
   "outputs": [
    {
     "name": "stdout",
     "output_type": "stream",
     "text": [
      "The sides of the triangle (in cm) are 5 , 7 and  8.\n",
      "And the area of the triangle is (in cm^2): 17.320508\n"
     ]
    }
   ],
   "source": [
    "print(ar)"
   ]
  },
  {
   "cell_type": "code",
   "execution_count": 4,
   "metadata": {},
   "outputs": [
    {
     "data": {
      "text/plain": [
       "17.320508075688775"
      ]
     },
     "execution_count": 4,
     "metadata": {},
     "output_type": "execute_result"
    }
   ],
   "source": [
    "ar.AREA"
   ]
  },
  {
   "cell_type": "code",
   "execution_count": 5,
   "metadata": {
    "scrolled": true
   },
   "outputs": [
    {
     "data": {
      "text/plain": [
       "5"
      ]
     },
     "execution_count": 5,
     "metadata": {},
     "output_type": "execute_result"
    }
   ],
   "source": [
    "ar.side1"
   ]
  },
  {
   "cell_type": "code",
   "execution_count": 6,
   "metadata": {},
   "outputs": [
    {
     "data": {
      "text/plain": [
       "7"
      ]
     },
     "execution_count": 6,
     "metadata": {},
     "output_type": "execute_result"
    }
   ],
   "source": [
    "ar.side2"
   ]
  },
  {
   "cell_type": "code",
   "execution_count": 7,
   "metadata": {},
   "outputs": [
    {
     "data": {
      "text/plain": [
       "8"
      ]
     },
     "execution_count": 7,
     "metadata": {},
     "output_type": "execute_result"
    }
   ],
   "source": [
    "ar.side3"
   ]
  },
  {
   "cell_type": "markdown",
   "metadata": {},
   "source": [
    "### Question 1.2 Write a function filter_long_words() that takes a list of words and an integer n and returns the list of words that are longer than n.\n",
    "    "
   ]
  },
  {
   "cell_type": "code",
   "execution_count": 8,
   "metadata": {},
   "outputs": [],
   "source": [
    "def filter_long_words():\n",
    "    \n",
    "    \n",
    "    l=[]                                    #Initializing an empty list to store the list of words                                                     \n",
    "   \n",
    "    num=int(input(\"Enter total number of words you want to enter : \"))  #Inputting total number of words as num\n",
    "    \n",
    "    n=int(input(\"Enter the number 'n' you want the words to be longer than: \")) #Inputting minimum lenght of words as n\n",
    "\n",
    "     \n",
    "    for i in range(0,num):                    # Iterating over the total no of words\n",
    "        word=input(\"Enter the word : \")       # Entering the words\n",
    "        l.append(word)                        # Storing the words into the list we defined earlier \n",
    "        \n",
    "    print(\"The entered words  are : \",l)      # Printing the entered words\n",
    "    print(\"\\nThe list of words that are longer than n =  \",n, \"are\")    \n",
    "    \n",
    "    for i in range(0,num):                    # for loop to iterate again to check the condition\n",
    "        if(len(l[i])>n):                      # Checking the condition\n",
    "            print(l[i])                       # Printing the words that satisfy the condition "
   ]
  },
  {
   "cell_type": "code",
   "execution_count": 9,
   "metadata": {},
   "outputs": [
    {
     "name": "stdout",
     "output_type": "stream",
     "text": [
      "Enter total number of words you want to enter : 3\n",
      "Enter the number 'n' you want the words to be longer than: 3\n",
      "Enter the word : Joseph\n",
      "Enter the word : Kabir\n",
      "Enter the word : Ram\n",
      "The entered words  are :  ['Joseph', 'Kabir', 'Ram']\n",
      "\n",
      "The list of words that are longer than n =   3 are\n",
      "Joseph\n",
      "Kabir\n"
     ]
    }
   ],
   "source": [
    "filter_long_words()"
   ]
  },
  {
   "cell_type": "markdown",
   "metadata": {},
   "source": [
    "### Question 2.1 Write a Python program using function concept that maps list of words into a list of integers representing the lengths of the corresponding words.\n",
    "### Hint: If a list [ ab,cde,erty] is passed on to the python function output should come as [2,3,4] Here 2,3 and 4 are the lengths of the words in the list."
   ]
  },
  {
   "cell_type": "code",
   "execution_count": 10,
   "metadata": {},
   "outputs": [],
   "source": [
    "def map_word_len():\n",
    "    \n",
    "    \n",
    "    l=[]                                    #Initializing an empty list to store the list of words     \n",
    "    length=[]                               #Initializing an empty list to store the lenght of words \n",
    "   \n",
    "    num=int(input(\"Enter total number of words you want to enter : \"))  #Inputting total number of words as num\n",
    "     \n",
    "    for i in range(0,num):                    # Iterating over the total no of words\n",
    "        word=input(\"Enter the word : \")       # Entering the words\n",
    "        l.append(word)                        # Storing the words into the list we defined earlier\n",
    "        length.append(len(word))               # Storing the lenght of words into another list \n",
    "        \n",
    "    print(\"The entered words  are : \",l)      # Printing the entered words\n",
    "    print(\"\\nThe list representing the lengths of the corresponding words is \",length) # Printing the lenght of words   \n",
    "   "
   ]
  },
  {
   "cell_type": "code",
   "execution_count": 11,
   "metadata": {},
   "outputs": [
    {
     "name": "stdout",
     "output_type": "stream",
     "text": [
      "Enter total number of words you want to enter : 3\n",
      "Enter the word : Adam\n",
      "Enter the word : Deepak\n",
      "Enter the word : Senorita\n",
      "The entered words  are :  ['Adam', 'Deepak', 'Senorita']\n",
      "\n",
      "The list representing the lengths of the corresponding words is  [4, 6, 8]\n"
     ]
    }
   ],
   "source": [
    "map_word_len()"
   ]
  },
  {
   "cell_type": "markdown",
   "metadata": {},
   "source": [
    "### Question 2.2 Write a Python function which takes a character (i.e. a string of length 1) and returns True if it is a vowel, False otherwise."
   ]
  },
  {
   "cell_type": "code",
   "execution_count": 12,
   "metadata": {},
   "outputs": [],
   "source": [
    "def vowel_check(): \n",
    "    char=str(input(\"Enter the character : \"))  # Inputing the character as char\n",
    "    if char.upper() in ['A','E','I','E','O']:  # Checking if it is a vowel (converting it in upparcase to make it easy to check)\n",
    "        return True                            # returning True if its a vowel\n",
    "    else:  \n",
    "        return False                           # returning False if its not a vowel\n",
    "    "
   ]
  },
  {
   "cell_type": "code",
   "execution_count": 13,
   "metadata": {},
   "outputs": [
    {
     "name": "stdout",
     "output_type": "stream",
     "text": [
      "Enter the character : e\n"
     ]
    },
    {
     "data": {
      "text/plain": [
       "True"
      ]
     },
     "execution_count": 13,
     "metadata": {},
     "output_type": "execute_result"
    }
   ],
   "source": [
    "vowel_check()"
   ]
  },
  {
   "cell_type": "code",
   "execution_count": 14,
   "metadata": {},
   "outputs": [
    {
     "name": "stdout",
     "output_type": "stream",
     "text": [
      "Enter the character : t\n"
     ]
    },
    {
     "data": {
      "text/plain": [
       "False"
      ]
     },
     "execution_count": 14,
     "metadata": {},
     "output_type": "execute_result"
    }
   ],
   "source": [
    "vowel_check()"
   ]
  },
  {
   "cell_type": "code",
   "execution_count": null,
   "metadata": {},
   "outputs": [],
   "source": []
  }
 ],
 "metadata": {
  "kernelspec": {
   "display_name": "Python 3",
   "language": "python",
   "name": "python3"
  },
  "language_info": {
   "codemirror_mode": {
    "name": "ipython",
    "version": 3
   },
   "file_extension": ".py",
   "mimetype": "text/x-python",
   "name": "python",
   "nbconvert_exporter": "python",
   "pygments_lexer": "ipython3",
   "version": "3.7.6"
  }
 },
 "nbformat": 4,
 "nbformat_minor": 4
}
